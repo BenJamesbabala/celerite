{
 "cells": [
  {
   "cell_type": "code",
   "execution_count": null,
   "metadata": {
    "collapsed": false
   },
   "outputs": [],
   "source": [
    "%matplotlib inline\n",
    "%config IPython.matplotlib.backend = \"retina\"\n",
    "from matplotlib import rcParams\n",
    "rcParams[\"savefig.dpi\"] = 100"
   ]
  },
  {
   "cell_type": "markdown",
   "metadata": {},
   "source": [
    "# A GenRP tutorial\n",
    "\n",
    "First generate a simulated dataset:"
   ]
  },
  {
   "cell_type": "code",
   "execution_count": null,
   "metadata": {
    "collapsed": false
   },
   "outputs": [],
   "source": [
    "import numpy as np\n",
    "import matplotlib.pyplot as plt\n",
    "np.random.seed(42)\n",
    "\n",
    "t = np.sort(np.random.uniform(0, 10, 147))  # The input coordinates must be sorted\n",
    "yerr = np.random.uniform(0.08, 0.22, len(t))\n",
    "y = 0.2 * (t-5) + np.sin(3*t + 0.1*(t-5)**2) + yerr * np.random.randn(len(t))\n",
    "\n",
    "plt.errorbar(t, y, yerr=yerr, fmt=\".k\", capsize=0)\n",
    "plt.xlabel(\"x\")\n",
    "plt.ylabel(\"y\")\n",
    "plt.xlim(0, 10)\n",
    "plt.ylim(-2.5, 2.5);"
   ]
  },
  {
   "cell_type": "markdown",
   "metadata": {},
   "source": [
    "Now let's fit this using `genrp`."
   ]
  },
  {
   "cell_type": "code",
   "execution_count": null,
   "metadata": {
    "collapsed": false
   },
   "outputs": [],
   "source": [
    "import genrp\n",
    "from genrp import kernels\n",
    "\n",
    "# A periodic component\n",
    "Q = 1.0\n",
    "w0 = 3.0\n",
    "S0 = np.var(y) / (w0 * Q)\n",
    "kernel = kernels.SHOTerm(np.log(S0), np.log(Q), np.log(w0))\n",
    "\n",
    "# A non-periodic component\n",
    "Q = 1.0 / np.sqrt(2.0)\n",
    "w0 = 3.0\n",
    "S0 = np.var(y) / (w0 * Q)\n",
    "kernel += kernels.SHOTerm(np.log(S0), np.log(Q), np.log(w0))\n",
    "\n",
    "gp = genrp.GP(kernel)\n",
    "gp.compute(t, yerr)\n",
    "print(\"Initial log likelihood: {0}\".format(gp.log_likelihood(y)))\n",
    "\n",
    "x = np.linspace(0, 10, 5000)\n",
    "initial_mu, initial_var = gp.predict(y, x, return_var=True)\n",
    "\n",
    "initial_color = \"#1f77b4\"\n",
    "plt.errorbar(t, y, yerr=yerr, fmt=\".k\", capsize=0)\n",
    "plt.plot(x, initial_mu, color=initial_color)\n",
    "plt.fill_between(x, initial_mu + np.sqrt(initial_var),\n",
    "                 initial_mu - np.sqrt(initial_var),\n",
    "                 color=initial_color, alpha=0.3)\n",
    "plt.xlabel(\"x\")\n",
    "plt.ylabel(\"y\")\n",
    "plt.xlim(0, 10)\n",
    "plt.ylim(-2.5, 2.5)\n",
    "\n",
    "plt.figure()\n",
    "omega = np.linspace(0.1, 10, 5000)\n",
    "initial_psd = gp.kernel.get_psd(omega)\n",
    "plt.plot(omega, initial_psd, color=initial_color)\n",
    "plt.yscale(\"log\")\n",
    "plt.xscale(\"log\")\n",
    "plt.xlim(1, 10)\n",
    "plt.xlabel(\"$\\omega$\")\n",
    "plt.ylabel(\"$S(\\omega)$\");"
   ]
  },
  {
   "cell_type": "markdown",
   "metadata": {},
   "source": [
    "We can look at the parameters:"
   ]
  },
  {
   "cell_type": "code",
   "execution_count": null,
   "metadata": {
    "collapsed": false
   },
   "outputs": [],
   "source": [
    "gp.get_parameter_dict()"
   ]
  },
  {
   "cell_type": "markdown",
   "metadata": {},
   "source": [
    "Let's freeze the Q-factor for the non-periodic component so that we don't fit for it:"
   ]
  },
  {
   "cell_type": "code",
   "execution_count": null,
   "metadata": {
    "collapsed": false
   },
   "outputs": [],
   "source": [
    "gp.freeze_parameter(\"kernel:k2:log_Q\")\n",
    "gp.get_parameter_dict()"
   ]
  },
  {
   "cell_type": "markdown",
   "metadata": {},
   "source": [
    "Fit for the maximum likelihood parameters:"
   ]
  },
  {
   "cell_type": "code",
   "execution_count": null,
   "metadata": {
    "collapsed": false
   },
   "outputs": [],
   "source": [
    "from scipy.optimize import minimize\n",
    "\n",
    "def neg_log_like(params):\n",
    "    gp.set_parameter_vector(params)\n",
    "    return -gp.log_likelihood(y)\n",
    "\n",
    "initial_params = gp.get_parameter_vector()\n",
    "bounds = [(-15, 15) for _ in range(len(initial_params))]\n",
    "\n",
    "r = minimize(neg_log_like, initial_params, method=\"L-BFGS-B\", bounds=bounds)\n",
    "gp.set_parameter_vector(r.x)\n",
    "print(r)"
   ]
  },
  {
   "cell_type": "markdown",
   "metadata": {},
   "source": [
    "Here are the maximum likelihood parameters:"
   ]
  },
  {
   "cell_type": "code",
   "execution_count": null,
   "metadata": {
    "collapsed": false
   },
   "outputs": [],
   "source": [
    "gp.get_parameter_dict()"
   ]
  },
  {
   "cell_type": "markdown",
   "metadata": {},
   "source": [
    "And here are the predictions that the maximum likelihood model makes:"
   ]
  },
  {
   "cell_type": "code",
   "execution_count": null,
   "metadata": {
    "collapsed": false
   },
   "outputs": [],
   "source": [
    "mu, var = gp.predict(y, x, return_var=True)\n",
    "\n",
    "ml_color = \"#ff7f0e\"\n",
    "plt.errorbar(t, y, yerr=yerr, fmt=\".k\", capsize=0)\n",
    "plt.plot(x, initial_mu, color=initial_color)\n",
    "plt.fill_between(x, initial_mu + np.sqrt(initial_var),\n",
    "                 initial_mu - np.sqrt(initial_var),\n",
    "                 color=initial_color, alpha=0.3)\n",
    "plt.plot(x, mu, color=ml_color)\n",
    "plt.fill_between(x, mu + np.sqrt(var), mu - np.sqrt(var), color=ml_color, alpha=0.3)\n",
    "plt.xlabel(\"x\")\n",
    "plt.ylabel(\"y\")\n",
    "plt.xlim(0, 10)\n",
    "plt.ylim(-2.5, 2.5)\n",
    "\n",
    "plt.figure()\n",
    "psd = gp.kernel.get_psd(omega)\n",
    "plt.plot(omega, initial_psd, color=initial_color, label=\"initial\")\n",
    "plt.plot(omega, psd, color=ml_color, label=\"max likelihood\")\n",
    "plt.legend(loc=3, fontsize=12)\n",
    "\n",
    "# Let's plot each component of the PSD:\n",
    "for k in gp.kernel.terms:\n",
    "    plt.plot(omega, k.get_psd(omega), \"--\", color=ml_color)\n",
    "\n",
    "plt.yscale(\"log\")\n",
    "plt.xscale(\"log\")\n",
    "plt.xlim(omega[0], omega[-1])\n",
    "plt.xlabel(\"$\\omega$\")\n",
    "plt.ylabel(\"$S(\\omega)$\");"
   ]
  },
  {
   "cell_type": "code",
   "execution_count": null,
   "metadata": {
    "collapsed": false
   },
   "outputs": [],
   "source": []
  }
 ],
 "metadata": {
  "kernelspec": {
   "display_name": "Python 3",
   "language": "python",
   "name": "python3"
  },
  "language_info": {
   "codemirror_mode": {
    "name": "ipython",
    "version": 3
   },
   "file_extension": ".py",
   "mimetype": "text/x-python",
   "name": "python",
   "nbconvert_exporter": "python",
   "pygments_lexer": "ipython3",
   "version": "3.4.5"
  }
 },
 "nbformat": 4,
 "nbformat_minor": 0
}
