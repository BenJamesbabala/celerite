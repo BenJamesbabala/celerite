{
 "cells": [
  {
   "cell_type": "code",
   "execution_count": 1,
   "metadata": {
    "collapsed": true
   },
   "outputs": [],
   "source": [
    "%matplotlib inline"
   ]
  },
  {
   "cell_type": "code",
   "execution_count": 2,
   "metadata": {
    "collapsed": true
   },
   "outputs": [],
   "source": [
    "import numpy as np\n",
    "import matplotlib.pyplot as plt"
   ]
  },
  {
   "cell_type": "code",
   "execution_count": 322,
   "metadata": {
    "collapsed": true
   },
   "outputs": [],
   "source": [
    "def get_kernel_for_term(term, t):\n",
    "    ar, br, ai, bi = term\n",
    "    return ar*np.exp(-br*np.abs(t))*np.cos(bi*np.abs(t)) + ai*np.exp(-br*np.abs(t))*np.sin(bi*np.abs(t))\n",
    "\n",
    "def get_polys_for_term(term):\n",
    "    ar, br, ai, bi = term\n",
    "    num = np.array([\n",
    "        ar*br - ai*bi,\n",
    "        (ar*br + ai*bi) * (br*br + bi*bi),\n",
    "    ])\n",
    "    num *= np.sqrt(2.0 / np.pi)\n",
    "    denom = np.array([\n",
    "        1.0,\n",
    "        2.0*(br*br - bi*bi),\n",
    "        (br*br + bi*bi)**2,\n",
    "    ])\n",
    "    return num, denom\n",
    "\n",
    "def get_psd_for_term(term, w):\n",
    "    num, denom = get_polys_for_term(term)\n",
    "    return np.polyval(num, w**2) / np.polyval(denom, w**2)\n",
    "\n",
    "def get_poly_for_sum_of_terms(terms):\n",
    "    polys = list(map(get_polys_for_term, terms))\n",
    "    numerator = np.array([0.0])\n",
    "    denominator = np.array([1.0])\n",
    "    for i in range(len(polys)):\n",
    "        denominator = np.polymul(denominator, polys[i][1])\n",
    "        num = np.array(polys[i][0])\n",
    "        for j in range(len(polys)):\n",
    "            if i == j:\n",
    "                continue\n",
    "            num = np.polymul(num, polys[j][1])\n",
    "        numerator = np.polyadd(numerator, num)\n",
    "    return numerator, denominator"
   ]
  },
  {
   "cell_type": "code",
   "execution_count": 323,
   "metadata": {
    "collapsed": false
   },
   "outputs": [
    {
     "name": "stdout",
     "output_type": "stream",
     "text": [
      "-0.0636046576785\n"
     ]
    }
   ],
   "source": [
    "terms = 1.0 - 2.0 * np.random.rand(1, 4)\n",
    "print(sum(get_psd_for_term(term, 0.0) for term in terms))"
   ]
  },
  {
   "cell_type": "code",
   "execution_count": 324,
   "metadata": {
    "collapsed": false
   },
   "outputs": [
    {
     "name": "stdout",
     "output_type": "stream",
     "text": [
      "-0.0636046576785\n"
     ]
    }
   ],
   "source": [
    "num, denom = get_poly_for_sum_of_terms(terms)\n",
    "print(np.polyval(num, 0.0) / np.polyval(denom, 0.0))"
   ]
  },
  {
   "cell_type": "code",
   "execution_count": 325,
   "metadata": {
    "collapsed": false
   },
   "outputs": [
    {
     "name": "stdout",
     "output_type": "stream",
     "text": [
      "0\n"
     ]
    },
    {
     "data": {
      "text/plain": [
       "0"
      ]
     },
     "execution_count": 325,
     "metadata": {},
     "output_type": "execute_result"
    }
   ],
   "source": [
    "full_poly = num\n",
    "roots = np.roots(full_poly)\n",
    "\n",
    "def get_sturm_sequence(poly):\n",
    "    p0 = np.atleast_1d(poly)\n",
    "    p1 = np.polyder(poly)\n",
    "    sequence = [p0, p1]\n",
    "    for k in range(len(poly)+1):\n",
    "        q, rem = np.polydiv(p0, p1)\n",
    "        p0 = np.array(p1)\n",
    "        p1 = -rem\n",
    "        sequence.append(p1)\n",
    "        if len(p1) == 1:\n",
    "            break\n",
    "    return sequence\n",
    "\n",
    "def count_sign_changes(seq, x):\n",
    "    count = 0\n",
    "    sgn = 0\n",
    "    for p in seq:\n",
    "        if np.isfinite(x):\n",
    "            v = np.polyval(p, x)\n",
    "            s = np.sign(v)\n",
    "        else:\n",
    "            s = np.sign(p[0]) * np.sign(x**(len(p)-1))\n",
    "        if sgn == 0:\n",
    "            sgn = s\n",
    "        elif s != sgn:\n",
    "            count += 1\n",
    "        sgn = s\n",
    "    return count\n",
    "\n",
    "seq = get_sturm_sequence(full_poly)\n",
    "# print(seq)\n",
    "# seq = get_sturm_sequence(np.array([1., 1., 0., -1., -1.]))\n",
    "print(sum(v.real > 0 and np.allclose(v.imag, 0.0) for v in roots))\n",
    "count_sign_changes(seq, 0.) - count_sign_changes(seq, np.inf)"
   ]
  },
  {
   "cell_type": "code",
   "execution_count": 326,
   "metadata": {
    "collapsed": false
   },
   "outputs": [
    {
     "data": {
      "text/plain": [
       "array([-0.70870525])"
      ]
     },
     "execution_count": 326,
     "metadata": {},
     "output_type": "execute_result"
    }
   ],
   "source": [
    "roots"
   ]
  },
  {
   "cell_type": "code",
   "execution_count": 327,
   "metadata": {
    "collapsed": false
   },
   "outputs": [
    {
     "data": {
      "text/plain": [
       "<matplotlib.lines.Line2D at 0x114838400>"
      ]
     },
     "execution_count": 327,
     "metadata": {},
     "output_type": "execute_result"
    },
    {
     "data": {
      "image/png": "[encoded data removed]",
      "text/plain": [
       "<matplotlib.figure.Figure at 0x114859b00>"
      ]
     },
     "metadata": {},
     "output_type": "display_data"
    }
   ],
   "source": [
    "w = np.linspace(-5, 5, 5000)\n",
    "p = np.zeros_like(w)\n",
    "for term in terms:\n",
    "    p += get_psd_for_term(term, w)\n",
    "plt.plot(w, p)\n",
    "plt.gca().axhline(0.0)\n",
    "#plt.ylim(-1, 1)\n",
    "#plt.plot(w, np.polyval(full_poly, w**2))"
   ]
  },
  {
   "cell_type": "code",
   "execution_count": 328,
   "metadata": {
    "collapsed": false
   },
   "outputs": [
    {
     "data": {
      "text/plain": [
       "-0.0022217020970006973"
      ]
     },
     "execution_count": 328,
     "metadata": {},
     "output_type": "execute_result"
    }
   ],
   "source": [
    "p[-1]"
   ]
  },
  {
   "cell_type": "code",
   "execution_count": null,
   "metadata": {
    "collapsed": true
   },
   "outputs": [],
   "source": []
  }
 ],
 "metadata": {
  "kernelspec": {
   "display_name": "Python 3",
   "language": "python",
   "name": "python3"
  },
  "language_info": {
   "codemirror_mode": {
    "name": "ipython",
    "version": 3
   },
   "file_extension": ".py",
   "mimetype": "text/x-python",
   "name": "python",
   "nbconvert_exporter": "python",
   "pygments_lexer": "ipython3",
   "version": "3.4.5"
  }
 },
 "nbformat": 4,
 "nbformat_minor": 0
}
